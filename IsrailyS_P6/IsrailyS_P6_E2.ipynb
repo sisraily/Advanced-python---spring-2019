{
 "cells": [
  {
   "cell_type": "markdown",
   "metadata": {},
   "source": [
    "### Chapter 12 Exercise 2\n",
    "\n",
    "##### Name: Shimon Israily <br> Course: Advanced python programming \n",
    "<hr>This program prompts the user to enter a url. The url is then split into separate elements. The third element of that list corresponds to the domain name which is then used for the socket connect call.\n",
    "Two error checks are used, using try and except statements. If the user enters an impoper url the socket won't connect and a message is then printed out stating to re-enter the url properly.<hr>\n"
   ]
  },
  {
   "cell_type": "markdown",
   "metadata": {},
   "source": [
    "\n"
   ]
  },
  {
   "cell_type": "markdown",
   "metadata": {},
   "source": [
    "The first two lines import the socket and regular expression libraries."
   ]
  },
  {
   "cell_type": "markdown",
   "metadata": {},
   "source": [
    "The first try except condition is used around the socket connect code. If the input is not entered properly a message is displayed on screen stating that the url was not inputted correctly. "
   ]
  },
  {
   "cell_type": "markdown",
   "metadata": {},
   "source": [
    "The mysock variable holds the socket connect information.\n",
    "The connect function is then used to connect to send a connection request to the domain at port 80 (http port).\n",
    "The cmd variable holds the get request. The encode function is used to turn the code into binary that that the message can be transmitted.\n",
    "\n",
    "An infinite loop is used to recieve the information from the host server. The information is recieved in packets composed of 512 bits. If the package is less than one, meaning the end of the file was reached, the program breaks out of the loop. The data is then decoded from binary to unicode code; the result is then displayed on screen."
   ]
  },
  {
   "cell_type": "code",
   "execution_count": 1,
   "metadata": {
    "scrolled": true
   },
   "outputs": [
    {
     "name": "stdout",
     "output_type": "stream",
     "text": [
      "enter url: http://data.pr4e.org/intro.txt\n",
      "HTTP/1.1 200 OK\n",
      "Date: Wed, 06 Mar 2019 22:44:55 GMT\n",
      "Server: Apache/2.4.18 (Ubuntu)\n",
      "Last-Modified: Sat, 13 May 2017 11:22:22 GMT\n",
      "ETag: \"6dbe-54f6609240717\"\n",
      "Accept-Ranges: bytes\n",
      "Content-Length: 28094\n",
      "Cache-Control: max-age=0, no-cache, no-store, must-revalidate\n",
      "Pragma: no-cache\n",
      "Expires: Wed, 11 Jan 1984 05:00:00 GMT\n",
      "Connection: close\n",
      "Content-Type: text/plain\n",
      "\n",
      "\n",
      "Why should you learn to write programs?\n",
      "\n",
      "Writing programs (or programming) is a very creative \n",
      "and rewarding activity.  You can write programs for \n",
      "many reasons, ranging from making your living to solving\n",
      "a difficult data analysis problem to having fun to helping\n",
      "someone else solve a problem.  This book assumes that \n",
      "everyone needs to know how to program, and that once \n",
      "you know how to program you will figure out what you want \n",
      "to do with your newfound skills.  \n",
      "\n",
      "We are surrounded in our daily lives with computers ranging \n",
      "from laptops to cell phones.  We can think of these computers\n",
      "as our personal assistants who can take care of many things\n",
      "on our behalf.  The hardware in our current-day computers \n",
      "is essentially built to continuously ask us the question, \n",
      "What would you like me to do next?\n",
      "\n",
      "Programmers add an operating system and a set of applications\n",
      "to the hardware and we end up with a Personal Digital\n",
      "Assistant that is quite helpful and capable of helping\n",
      "us do many different things.\n",
      "\n",
      "Our computers are fast and have vast amounts of memory and \n",
      "could be very helpful to us if we only knew the language to\n",
      "speak to explain to the computer what we would like it to \n",
      "do next.  If we knew this language, we could tell the \n",
      "computer to do tasks on our behalf that were repetitive.  \n",
      "Interestingly, the kinds of things computers can do best\n",
      "are often the kinds of things that we humans find boring\n",
      "and mind-numbing.\n",
      "\n",
      "For example, look at the first three paragraphs of this\n",
      "chapter and tell me the most commonly used word and how\n",
      "many times the word is used.  While you were able to read\n",
      "and understand the words in a few seconds, counting them\n",
      "is almost painful because it is not the kind of problem \n",
      "that human minds are designed to solve.  For a computer\n",
      "the opposite is true, reading and understanding text \n",
      "from a piece of paper is hard for a computer to do \n",
      "but counting the words and telling you how many times\n",
      "the most used word was used is very easy for the\n",
      "computer:\n",
      "\n",
      "Our personal information analysis assistant quickly \n",
      "told us that the word to was used sixteen times in the\n",
      "first three paragraphs of this chapter.\n",
      "\n",
      "This very fact that computers are good at things \n",
      "that humans are not is why you need to become\n",
      "skilled at talking computer language.  Once you learn\n",
      "this new language, you can delegate mundane tasks\n",
      "to your partner (the computer), leaving more time \n",
      "for you to do the \n",
      "things that you are uniquely suited for.  You bring \n",
      "creativity, intuition, and inventiveness to this\n",
      "partnership.  \n",
      "\n",
      "Creativity and motivation\n",
      "\n",
      "While this book is not intended for professional programmers, professi\n",
      "\n",
      "The total characters read is 28467\n"
     ]
    }
   ],
   "source": [
    "import socket\n",
    "import re\n",
    "try:\n",
    "    url = str(input(\"enter url: \"))\n",
    "    # splits the url and selects and the third element is assigned to the domain variable.\n",
    "    domain = url.split('/')[2]\n",
    "    \n",
    "    # The my sock varible holds information on how to connect to a socket.\n",
    "    mysock = socket.socket(socket.AF_INET, socket.SOCK_STREAM)\n",
    "    \n",
    "    # Sends a connect request to the domain at port 80 (Hyper text transport protocol.)\n",
    "    mysock.connect((domain,80))\n",
    "    \n",
    "    # Sends a request to get the information for the url. The encode function turns the string into binary.\n",
    "    cmd = str('GET '+ url +' HTTP/1.0\\r\\n\\r\\n').encode()\n",
    "    # The request is sent\n",
    "    mysock.send(cmd)\n",
    "\n",
    "# If an error message is returned, meaning that the socket did not connect, a message is displayed stating that\n",
    "# the url is not valid.\n",
    "except: \n",
    "    print(\"Url Entered is not valid\")\n",
    "    print(\"Make sure the url is entered in format: http://domain.com/pagename\")\n",
    "    \n",
    "    # Exits the program\n",
    "    exit()\n",
    "    \n",
    "\n",
    "totaldata=int()\n",
    "try:\n",
    "    while True:\n",
    "        data = mysock.recv(3000)\n",
    "        xdata = data.decode()\n",
    "        totaldata += len(xdata)\n",
    "        \n",
    "        # If less than 3000 characters were received the characters are displayd on screen.\n",
    "        if totaldata < 3001:\n",
    "            print(data.decode(),end='')\n",
    "        if len(data) < 1:\n",
    "            print(\"\\n\\nThe total characters read is\",totaldata)\n",
    "            break\n",
    "except:\n",
    "    print(\"Could not retreive information from this url. Try another url.\")\n",
    "\n",
    "#Closes the socket connection.\n",
    "mysock.close()"
   ]
  }
 ],
 "metadata": {
  "kernelspec": {
   "display_name": "Python 3",
   "language": "python",
   "name": "python3"
  },
  "language_info": {
   "codemirror_mode": {
    "name": "ipython",
    "version": 3
   },
   "file_extension": ".py",
   "mimetype": "text/x-python",
   "name": "python",
   "nbconvert_exporter": "python",
   "pygments_lexer": "ipython3",
   "version": "3.7.1"
  }
 },
 "nbformat": 4,
 "nbformat_minor": 2
}
