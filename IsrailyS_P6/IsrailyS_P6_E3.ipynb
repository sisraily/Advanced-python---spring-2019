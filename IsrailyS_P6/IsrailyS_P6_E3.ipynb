{
 "cells": [
  {
   "cell_type": "markdown",
   "metadata": {},
   "source": [
    "### Chapter 12 Exercise 3\n",
    "\n",
    "##### Name: Shimon Israily <br>Course: Advanced python programming\n",
    "<hr>\n",
    "This program uses the urllib library to replicate exercise 2. \n",
    "The program recieves a url from a user, displays up to 3000 characters, and then counts the number of characters in the document.\n",
    "<hr>\n"
   ]
  },
  {
   "cell_type": "code",
   "execution_count": 2,
   "metadata": {},
   "outputs": [
    {
     "name": "stdin",
     "output_type": "stream",
     "text": [
      "Enter a url:  http://data.pr4e.org/intro.txt\n"
     ]
    },
    {
     "name": "stdout",
     "output_type": "stream",
     "text": [
      "b'\\nWhy should you learn to write programs?\\n\\nWriting programs (or programming) is a very creative \\nand rewarding activity.  You can write programs for \\nmany reasons, ranging from making your living to solving\\na difficult data analysis problem to having fun to helping\\nsomeone else solve a problem.  This book assumes that \\neveryone needs to know how to program, and that once \\nyou know how to program you will figure out what you want \\nto do with your newfound skills.  \\n\\nWe are surrounded in our daily lives with c'b'omputers ranging \\nfrom laptops to cell phones.  We can think of these computers\\nas our personal assistants who can take care of many things\\non our behalf.  The hardware in our current-day computers \\nis essentially built to continuously ask us the question, \\nWhat would you like me to do next?\\n\\nProgrammers add an operating system and a set of applications\\nto the hardware and we end up with a Personal Digital\\nAssistant that is quite helpful and capable of helping\\nus do many different things.\\n\\nOur computers are'b' fast and have vast amounts of memory and \\ncould be very helpful to us if we only knew the language to\\nspeak to explain to the computer what we would like it to \\ndo next.  If we knew this language, we could tell the \\ncomputer to do tasks on our behalf that were repetitive.  \\nInterestingly, the kinds of things computers can do best\\nare often the kinds of things that we humans find boring\\nand mind-numbing.\\n\\nFor example, look at the first three paragraphs of this\\nchapter and tell me the most commonly used word'b' and how\\nmany times the word is used.  While you were able to read\\nand understand the words in a few seconds, counting them\\nis almost painful because it is not the kind of problem \\nthat human minds are designed to solve.  For a computer\\nthe opposite is true, reading and understanding text \\nfrom a piece of paper is hard for a computer to do \\nbut counting the words and telling you how many times\\nthe most used word was used is very easy for the\\ncomputer:\\n\\nOur personal information analysis assistant quickly \\nto'b'ld us that the word to was used sixteen times in the\\nfirst three paragraphs of this chapter.\\n\\nThis very fact that computers are good at things \\nthat humans are not is why you need to become\\nskilled at talking computer language.  Once you learn\\nthis new language, you can delegate mundane tasks\\nto your partner (the computer), leaving more time \\nfor you to do the \\nthings that you are uniquely suited for.  You bring \\ncreativity, intuition, and inventiveness to this\\npartnership.  \\n\\nCreativity and motivation\\n\\nWhi'b'le this book is not intended for professional programmers, professional\\nprogramming can be a very rewarding job both financially and personally.\\nBuilding useful, elegant, and clever programs for others to use is a very\\ncreative activity.  Your computer or Personal Digital Assistant (PDA) \\nusually contains many different programs from many different groups \n",
      "\n",
      "\n",
      "A total of 28094 characters were read from http://data.pr4e.org/intro.txt\n"
     ]
    }
   ],
   "source": [
    "import urllib.request\n",
    "url = input(\"Enter a url: \")\n",
    "\n",
    "# A try except clause is used to display a message on screen in case of an error with the url.\n",
    "try:\n",
    "    fhand = urllib.request.urlopen(url)\n",
    "    \n",
    "except:\n",
    "    print(\"URL was not properly entered. Try again.\")\n",
    "    exit()\n",
    "\n",
    "try:\n",
    "    # The textlength varible is used to track how many characters were read.\n",
    "    textlength = 0\n",
    "    # Declares the content variable that will hold the text.\n",
    "    content = str()\n",
    "    while True:\n",
    "        \n",
    "        # The text variable receives 512 characters at a time from the host's server.\n",
    "        text = fhand.read(512)\n",
    "\n",
    "        # The textlength variable gets incremented\n",
    "        textlength += len(text)\n",
    "        content = content + str(text)\n",
    "        \n",
    "        if len(text)<1:\n",
    "            break\n",
    "            \n",
    "    # prints out the text using an index operator to display the first 3000 characters!\n",
    "    print(content[:3000])\n",
    "    # Once all the info was read from the host server, and the first 3000 characters are done printing\n",
    "    # the total number of characters gets printed out. The '\\n' represents a new line. \n",
    "    print(\"\\n\\nA total of {} characters were read from {}\".format(textlength,url))\n",
    "    \n",
    "except:\n",
    "    print(\"Website not found. Try again.\")\n",
    "    exit()\n",
    "    \n",
    "\n",
    "\n"
   ]
  },
  {
   "cell_type": "code",
   "execution_count": null,
   "metadata": {},
   "outputs": [],
   "source": []
  },
  {
   "cell_type": "code",
   "execution_count": null,
   "metadata": {},
   "outputs": [],
   "source": []
  }
 ],
 "metadata": {
  "kernelspec": {
   "display_name": "Python 3",
   "language": "python",
   "name": "python3"
  },
  "language_info": {
   "codemirror_mode": {
    "name": "ipython",
    "version": 3
   },
   "file_extension": ".py",
   "mimetype": "text/x-python",
   "name": "python",
   "nbconvert_exporter": "python",
   "pygments_lexer": "ipython3",
   "version": "3.7.1"
  }
 },
 "nbformat": 4,
 "nbformat_minor": 2
}
