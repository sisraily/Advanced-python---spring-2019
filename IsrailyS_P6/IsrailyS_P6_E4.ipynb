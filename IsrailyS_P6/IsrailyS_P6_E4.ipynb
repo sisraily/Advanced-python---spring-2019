{
 "cells": [
  {
   "cell_type": "markdown",
   "metadata": {},
   "source": [
    "### Chapter 12 Exercise 4\n",
    "\n",
    "##### Name: Shimon Israily <br>Course: Advanced python programming\n"
   ]
  },
  {
   "cell_type": "markdown",
   "metadata": {},
   "source": [
    "<hr>This program modifys the urllinks program to count the amount of paragraphs within a website.\n",
    "This is done using the BeautifulSoup library.<hr>"
   ]
  },
  {
   "cell_type": "code",
   "execution_count": 2,
   "metadata": {
    "scrolled": true
   },
   "outputs": [
    {
     "name": "stdin",
     "output_type": "stream",
     "text": [
      "Enter -  https://docs.python.org/3/\n"
     ]
    },
    {
     "name": "stdout",
     "output_type": "stream",
     "text": [
      "https://docs.python.org/3/ has 25 paragraphs\n"
     ]
    }
   ],
   "source": [
    "import urllib.request, urllib.parse, urllib.error\n",
    "from bs4 import BeautifulSoup\n",
    "import ssl\n",
    "\n",
    "\n",
    "# Ignore SSL certificate errors\n",
    "ctx = ssl.create_default_context()\n",
    "ctx.check_hostname = False\n",
    "ctx.verify_mode = ssl.CERT_NONE\n",
    "\n",
    "# Prompts the user to input a url\n",
    "url = input('Enter - ')\n",
    "# Urllib is used to retreive the information from the url.\n",
    "html = urllib.request.urlopen(url, context=ctx).read()\n",
    "\n",
    "# The beautiful soup function is used sending the recieved website and the 'html.parser' string as parameters\n",
    "soup = BeautifulSoup(html, 'html.parser')\n",
    "\n",
    "# Retrieves all of the paragraph tags by sending the 'p' string as a parameter to the soup function.\n",
    "tags = soup('p')\n",
    "\n",
    "# A counter is used to keep track of how many tags there are.\n",
    "count = 0\n",
    "# Loops through each tag. \n",
    "for tag in tags:\n",
    "    #The count variable gets incremented for each iteration.\n",
    "    count+=1\n",
    "\n",
    "# Displays the number of paragraphs.\n",
    "print(\"{} has {} paragraphs\".format(url,count))\n"
   ]
  },
  {
   "cell_type": "code",
   "execution_count": null,
   "metadata": {},
   "outputs": [],
   "source": []
  }
 ],
 "metadata": {
  "kernelspec": {
   "display_name": "Python 3",
   "language": "python",
   "name": "python3"
  },
  "language_info": {
   "codemirror_mode": {
    "name": "ipython",
    "version": 3
   },
   "file_extension": ".py",
   "mimetype": "text/x-python",
   "name": "python",
   "nbconvert_exporter": "python",
   "pygments_lexer": "ipython3",
   "version": "3.7.1"
  }
 },
 "nbformat": 4,
 "nbformat_minor": 2
}
