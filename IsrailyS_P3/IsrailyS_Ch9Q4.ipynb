{
 "cells": [
  {
   "cell_type": "code",
   "execution_count": null,
   "metadata": {},
   "outputs": [],
   "source": [
    "### Chapter 9 Question 4\n",
    "Name: Shimon Israily\n",
    "This program is a continuation from question 3. The program displays the email and amount of emails recived from the highest\n",
    "number of emails."
   ]
  },
  {
   "cell_type": "markdown",
   "metadata": {},
   "source": [
    "Same code as question 3. "
   ]
  },
  {
   "cell_type": "code",
   "execution_count": 2,
   "metadata": {},
   "outputs": [],
   "source": [
    "file = open(\"mbox-short.txt\")\n",
    "emails = dict()\n",
    "for line in file:\n",
    "    # each line has its words split into separate elements.\n",
    "    words = line.split()\n",
    "    \n",
    "    # Checks if the line starts with the word \"From \"\n",
    "    if line.startswith(\"From \"):\n",
    "        # Checks if the second element within the list (the email address) is alrady in the dictionairy. If it is, the value\n",
    "        # is then incremented.\n",
    "        if words[1] in emails:\n",
    "            emails[words[1]] += 1\n",
    "            \n",
    "        # If the email address is not in the dictionairy it is added as a key and the value as 1, meaning 1 email recieved.\n",
    "        else:\n",
    "            emails[words[1]] = 1\n",
    "\n",
    "\n",
    "\n",
    "\n",
    "        "
   ]
  },
  {
   "cell_type": "markdown",
   "metadata": {},
   "source": [
    "Displays who we recieved the most emails from. This is done by sending the emails dictionairy to the max function.\n",
    "The get function is used to displays the key's value. "
   ]
  },
  {
   "cell_type": "code",
   "execution_count": 9,
   "metadata": {},
   "outputs": [
    {
     "name": "stdout",
     "output_type": "stream",
     "text": [
      "The most emails received was from: zqian@umich.edu.\n",
      "A total of 4 emails were received from them.\n"
     ]
    }
   ],
   "source": [
    "print(\"The most emails received was from: {}.\\nA total of {} emails were received from them.\".format(max(emails), emails.get(max(emails))))"
   ]
  },
  {
   "cell_type": "code",
   "execution_count": null,
   "metadata": {},
   "outputs": [],
   "source": []
  }
 ],
 "metadata": {
  "kernelspec": {
   "display_name": "Python 3",
   "language": "python",
   "name": "python3"
  },
  "language_info": {
   "codemirror_mode": {
    "name": "ipython",
    "version": 3
   },
   "file_extension": ".py",
   "mimetype": "text/x-python",
   "name": "python",
   "nbconvert_exporter": "python",
   "pygments_lexer": "ipython3",
   "version": "3.7.1"
  }
 },
 "nbformat": 4,
 "nbformat_minor": 2
}
