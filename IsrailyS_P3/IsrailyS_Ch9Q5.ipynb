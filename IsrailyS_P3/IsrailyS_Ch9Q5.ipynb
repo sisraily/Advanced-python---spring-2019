{
 "cells": [
  {
   "cell_type": "markdown",
   "metadata": {},
   "source": [
    "### Chapter 9 Question 5\n",
    "Name: Shimon Israily\n",
    "This program is a continuatimon from question 3 and 4. This saves the domain of an email address to a dictionariy.\n",
    "The value of each key represents the number of emails recieved from that domain.\n"
   ]
  },
  {
   "cell_type": "code",
   "execution_count": 3,
   "metadata": {},
   "outputs": [
    {
     "name": "stdout",
     "output_type": "stream",
     "text": [
      "{'uct.ac.za': 6, 'media.berkeley.edu': 4, 'umich.edu': 7, 'iupui.edu': 8, 'caret.cam.ac.uk': 1, 'gmail.com': 1}\n"
     ]
    }
   ],
   "source": [
    "file = open(\"mbox-short.txt\")\n",
    "domains = dict()\n",
    "\n",
    "for line in file:\n",
    "    words = line.split()\n",
    "    if line.startswith(\"From \"):\n",
    "        \n",
    "        # Splits the second element (the mail address), into two separate elements. The separation occurs at the @ sign.\n",
    "        domain = words[1].split(\"@\")\n",
    "        \n",
    "        # Checks if the domain is alrady in the dictionairy.\n",
    "        if domain[1] in domains:\n",
    "            # Increaments the value by 1\n",
    "            domains[domain[1]] += 1\n",
    "            # # Adds the second element of the domain list. This corresponds to the domain name.\n",
    "        else:\n",
    "            domains[domain[1]] = 1\n",
    "\n",
    "print(domains)"
   ]
  },
  {
   "cell_type": "markdown",
   "metadata": {},
   "source": []
  },
  {
   "cell_type": "markdown",
   "metadata": {},
   "source": [
    "### Extra practice with Pandas\n",
    "Below the dictionairy is converted to a pandas dataframe."
   ]
  },
  {
   "cell_type": "code",
   "execution_count": 4,
   "metadata": {},
   "outputs": [
    {
     "name": "stdout",
     "output_type": "stream",
     "text": [
      "                    Number of emails legend\n",
      "uct.ac.za                          6      A\n",
      "media.berkeley.edu                 4      B\n",
      "umich.edu                          7      C\n",
      "iupui.edu                          8      D\n",
      "caret.cam.ac.uk                    1      E\n",
      "gmail.com                          1      F\n"
     ]
    }
   ],
   "source": [
    "import pandas as pd\n",
    "\n",
    "pd_domains = pd.DataFrame.from_dict(domains,orient='index')\n",
    "\n",
    "# Adds a column named \"x axis\" and a list of alphabetical letters to the dataframe.\n",
    "pd_domains[\"x axis\"] = list(\"ABCDEF\")\n",
    "\n",
    "# Renames the columns\n",
    "pd_domains.columns = [\"Number of emails\", \"legend\"]\n",
    "\n",
    "print(pd_domains)\n"
   ]
  },
  {
   "cell_type": "code",
   "execution_count": 6,
   "metadata": {},
   "outputs": [
    {
     "name": "stdout",
     "output_type": "stream",
     "text": [
      "                    Number of emails legend              Domain\n",
      "uct.ac.za                          6      A           uct.ac.za\n",
      "media.berkeley.edu                 4      B  media.berkeley.edu\n",
      "umich.edu                          7      C           umich.edu\n",
      "iupui.edu                          8      D           iupui.edu\n",
      "caret.cam.ac.uk                    1      E     caret.cam.ac.uk\n",
      "gmail.com                          1      F           gmail.com\n"
     ]
    }
   ],
   "source": [
    "# Creates a new list named domains. The contents are the domain names dictionariy.\n",
    "pd_domains[\"Domain\"] = domains\n",
    "print(pd_domains)\n"
   ]
  },
  {
   "cell_type": "code",
   "execution_count": 9,
   "metadata": {},
   "outputs": [
    {
     "name": "stdout",
     "output_type": "stream",
     "text": [
      "        Number of emails              Domain\n",
      "legend                                      \n",
      "A                      6           uct.ac.za\n",
      "B                      4  media.berkeley.edu\n",
      "C                      7           umich.edu\n",
      "D                      8           iupui.edu\n",
      "E                      1     caret.cam.ac.uk\n",
      "F                      1           gmail.com\n"
     ]
    }
   ],
   "source": [
    "# Creates a new list that replaces the index with the 'legend' column\n",
    "x=pd_domains.set_index(\"legend\")\n",
    "print(x)"
   ]
  },
  {
   "cell_type": "code",
   "execution_count": 15,
   "metadata": {},
   "outputs": [
    {
     "data": {
      "text/html": [
       "<div>\n",
       "<style scoped>\n",
       "    .dataframe tbody tr th:only-of-type {\n",
       "        vertical-align: middle;\n",
       "    }\n",
       "\n",
       "    .dataframe tbody tr th {\n",
       "        vertical-align: top;\n",
       "    }\n",
       "\n",
       "    .dataframe thead th {\n",
       "        text-align: right;\n",
       "    }\n",
       "</style>\n",
       "<table border=\"1\" class=\"dataframe\">\n",
       "  <thead>\n",
       "    <tr style=\"text-align: right;\">\n",
       "      <th></th>\n",
       "      <th>Number of emails</th>\n",
       "      <th>Domain</th>\n",
       "    </tr>\n",
       "    <tr>\n",
       "      <th>legend</th>\n",
       "      <th></th>\n",
       "      <th></th>\n",
       "    </tr>\n",
       "  </thead>\n",
       "  <tbody>\n",
       "    <tr>\n",
       "      <th>D</th>\n",
       "      <td>8</td>\n",
       "      <td>iupui.edu</td>\n",
       "    </tr>\n",
       "    <tr>\n",
       "      <th>C</th>\n",
       "      <td>7</td>\n",
       "      <td>umich.edu</td>\n",
       "    </tr>\n",
       "    <tr>\n",
       "      <th>A</th>\n",
       "      <td>6</td>\n",
       "      <td>uct.ac.za</td>\n",
       "    </tr>\n",
       "    <tr>\n",
       "      <th>B</th>\n",
       "      <td>4</td>\n",
       "      <td>media.berkeley.edu</td>\n",
       "    </tr>\n",
       "    <tr>\n",
       "      <th>E</th>\n",
       "      <td>1</td>\n",
       "      <td>caret.cam.ac.uk</td>\n",
       "    </tr>\n",
       "    <tr>\n",
       "      <th>F</th>\n",
       "      <td>1</td>\n",
       "      <td>gmail.com</td>\n",
       "    </tr>\n",
       "  </tbody>\n",
       "</table>\n",
       "</div>"
      ],
      "text/plain": [
       "        Number of emails              Domain\n",
       "legend                                      \n",
       "D                      8           iupui.edu\n",
       "C                      7           umich.edu\n",
       "A                      6           uct.ac.za\n",
       "B                      4  media.berkeley.edu\n",
       "E                      1     caret.cam.ac.uk\n",
       "F                      1           gmail.com"
      ]
     },
     "execution_count": 15,
     "metadata": {},
     "output_type": "execute_result"
    }
   ],
   "source": [
    "# Sorts the dataframe by the number of emails recieved\n",
    "x.sort_values(by=\"Number of emails\", ascending=False)"
   ]
  },
  {
   "cell_type": "markdown",
   "metadata": {},
   "source": [
    "Displays a resized horizontal bar chart of the dataframe."
   ]
  },
  {
   "cell_type": "code",
   "execution_count": 17,
   "metadata": {},
   "outputs": [
    {
     "data": {
      "text/plain": [
       "<matplotlib.axes._subplots.AxesSubplot at 0x1f2f1818ba8>"
      ]
     },
     "execution_count": 17,
     "metadata": {},
     "output_type": "execute_result"
    },
    {
     "data": {
      "image/png": "[encoded data removed]",
      "text/plain": [
       "<Figure size 720x360 with 1 Axes>"
      ]
     },
     "metadata": {
      "needs_background": "light"
     },
     "output_type": "display_data"
    }
   ],
   "source": [
    "x.plot(kind='barh',title=\"Number of emails received per domain\",figsize=(10,5))"
   ]
  },
  {
   "cell_type": "code",
   "execution_count": null,
   "metadata": {},
   "outputs": [],
   "source": []
  }
 ],
 "metadata": {
  "kernelspec": {
   "display_name": "Python 3",
   "language": "python",
   "name": "python3"
  },
  "language_info": {
   "codemirror_mode": {
    "name": "ipython",
    "version": 3
   },
   "file_extension": ".py",
   "mimetype": "text/x-python",
   "name": "python",
   "nbconvert_exporter": "python",
   "pygments_lexer": "ipython3",
   "version": "3.7.1"
  }
 },
 "nbformat": 4,
 "nbformat_minor": 2
}
