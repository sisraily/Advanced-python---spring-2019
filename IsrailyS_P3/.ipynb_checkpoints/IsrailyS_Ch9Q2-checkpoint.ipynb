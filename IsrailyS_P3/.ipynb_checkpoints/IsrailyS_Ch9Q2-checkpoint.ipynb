{
 "cells": [
  {
   "cell_type": "markdown",
   "metadata": {},
   "source": [
    "### Chapter 9 Question 2\n",
    "Name: Shimon Israily\n",
    "course: Advanced Python Programming\n",
    "This program reads a mail box data, categorizes email messages by the amount of messages were received per day, then prints out the results. "
   ]
  },
  {
   "cell_type": "markdown",
   "metadata": {},
   "source": [
    "Opens the file and creates a new dictionary named email_days"
   ]
  },
  {
   "cell_type": "code",
   "execution_count": 4,
   "metadata": {},
   "outputs": [],
   "source": [
    "file = open(\"mbox-short.txt\")\n",
    "email_days = dict()"
   ]
  },
  {
   "cell_type": "markdown",
   "metadata": {},
   "source": [
    "A for loop is used to read each line within the file."
   ]
  },
  {
   "cell_type": "code",
   "execution_count": 5,
   "metadata": {},
   "outputs": [],
   "source": [
    "for line in file:\n",
    "    \n",
    "    # Each line is split into separate words.\n",
    "    words=line.split()\n",
    "    \n",
    "    # Checks if the line starts with the word \"From \"\n",
    "    if line.startswith(\"From \"):\n",
    "        # Checks to see if the day is aready in our email_days dictionary.\n",
    "        if words[2] in email_days:\n",
    "            # If the day (key) is in the dictionary the value (corresponding to the number of emails) is then incremented.\n",
    "            email_days[words[2]] += 1\n",
    "        else:\n",
    "            # If the value is not in the dictionary a new key is created with the day as its key.\n",
    "            email_days[words[2]] =1\n"
   ]
  },
  {
   "cell_type": "markdown",
   "metadata": {},
   "source": [
    "Displays the list."
   ]
  },
  {
   "cell_type": "code",
   "execution_count": 6,
   "metadata": {},
   "outputs": [
    {
     "name": "stdout",
     "output_type": "stream",
     "text": [
      "{'Sat': 1, 'Fri': 20, 'Thu': 6}\n"
     ]
    }
   ],
   "source": [
    "print(email_days)"
   ]
  },
  {
   "cell_type": "markdown",
   "metadata": {},
   "source": [
    "Another way of displaying the list is done by looping through the dictionairy."
   ]
  },
  {
   "cell_type": "code",
   "execution_count": 9,
   "metadata": {},
   "outputs": [
    {
     "name": "stdout",
     "output_type": "stream",
     "text": [
      "Sat 1\n",
      "Fri 20\n",
      "Thu 6\n"
     ]
    }
   ],
   "source": [
    "for key in email_days:\n",
    "    print(key,email_days[key])"
   ]
  }
 ],
 "metadata": {
  "kernelspec": {
   "display_name": "Python 3",
   "language": "python",
   "name": "python3"
  },
  "language_info": {
   "codemirror_mode": {
    "name": "ipython",
    "version": 3
   },
   "file_extension": ".py",
   "mimetype": "text/x-python",
   "name": "python",
   "nbconvert_exporter": "python",
   "pygments_lexer": "ipython3",
   "version": "3.7.3"
  }
 },
 "nbformat": 4,
 "nbformat_minor": 2
}
