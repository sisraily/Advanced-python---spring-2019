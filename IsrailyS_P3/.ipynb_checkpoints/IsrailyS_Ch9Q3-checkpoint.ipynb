{
 "cells": [
  {
   "cell_type": "markdown",
   "metadata": {},
   "source": [
    "### Chapter 9 Question 3\n",
    "Name: Shimon Israily\n",
    "This program reads a mailbox data file, strips everything but the email adresses and displays how many messages were received per email address. Note: A little extra coding was done to get some extra practice using pandas.\n"
   ]
  },
  {
   "cell_type": "markdown",
   "metadata": {},
   "source": [
    "Imports pandas"
   ]
  },
  {
   "cell_type": "code",
   "execution_count": 1,
   "metadata": {},
   "outputs": [],
   "source": [
    "import pandas as pd"
   ]
  },
  {
   "cell_type": "markdown",
   "metadata": {},
   "source": [
    "Gets the data from the mail box data. The second line creates a new dictionairy named emails."
   ]
  },
  {
   "cell_type": "code",
   "execution_count": 2,
   "metadata": {},
   "outputs": [],
   "source": [
    "file = open(\"mbox-short.txt\")\n",
    "emails = dict()"
   ]
  },
  {
   "cell_type": "markdown",
   "metadata": {},
   "source": [
    "A for loop is used to iterate through each line of the file. "
   ]
  },
  {
   "cell_type": "code",
   "execution_count": 3,
   "metadata": {},
   "outputs": [
    {
     "name": "stdout",
     "output_type": "stream",
     "text": [
      "{'stephen.marquard@uct.ac.za': 2, 'louis@media.berkeley.edu': 3, 'zqian@umich.edu': 4, 'rjlowe@iupui.edu': 2, 'cwen@iupui.edu': 5, 'gsilver@umich.edu': 3, 'wagnermr@iupui.edu': 1, 'antranig@caret.cam.ac.uk': 1, 'gopal.ramasammycook@gmail.com': 1, 'david.horwitz@uct.ac.za': 4, 'ray@media.berkeley.edu': 1}\n"
     ]
    }
   ],
   "source": [
    "for line in file:\n",
    "    # each line has its words split into separate elements.\n",
    "    words = line.split()\n",
    "    \n",
    "    # Checks if the line starts with the word \"From \"\n",
    "    if line.startswith(\"From \"):\n",
    "        # Checks if the second element within the list (the email address) is alrady in the dictionairy. If it is, the value\n",
    "        # is then incremented.\n",
    "        if words[1] in emails:\n",
    "            emails[words[1]] += 1\n",
    "            \n",
    "        # If the email address is not in the dictionairy it is added as a key and the value as 1, meaning 1 email recieved.\n",
    "        else:\n",
    "            emails[words[1]] = 1\n",
    "\n",
    "# Displays the dictionairy.\n",
    "print(emails)\n",
    "\n"
   ]
  },
  {
   "cell_type": "markdown",
   "metadata": {},
   "source": [
    "This converts the dict emails to a pandas dataframe. \n",
    "The second line simpply renames the column to \"Number of emails received\".\n",
    "The third line displays the results as a dataframe."
   ]
  },
  {
   "cell_type": "code",
   "execution_count": 10,
   "metadata": {
    "scrolled": true
   },
   "outputs": [
    {
     "name": "stdout",
     "output_type": "stream",
     "text": [
      "                               Number of Emails Recieved\n",
      "stephen.marquard@uct.ac.za                             2\n",
      "louis@media.berkeley.edu                               3\n",
      "zqian@umich.edu                                        4\n",
      "rjlowe@iupui.edu                                       2\n",
      "cwen@iupui.edu                                         5\n",
      "gsilver@umich.edu                                      3\n",
      "wagnermr@iupui.edu                                     1\n",
      "antranig@caret.cam.ac.uk                               1\n",
      "gopal.ramasammycook@gmail.com                          1\n",
      "david.horwitz@uct.ac.za                                4\n",
      "ray@media.berkeley.edu                                 1\n"
     ]
    }
   ],
   "source": [
    "pd_emails = pd.DataFrame.from_dict(emails,orient='index')\n",
    "pd_emails.columns = [\"Number of Emails Received\"]\n",
    "print(pd_emails)"
   ]
  },
  {
   "cell_type": "markdown",
   "metadata": {},
   "source": [
    "Exports the resulting dataframe to csv. The code was commented out so it wont create the file."
   ]
  },
  {
   "cell_type": "code",
   "execution_count": 11,
   "metadata": {},
   "outputs": [],
   "source": [
    "# pd_emails.to_csv(\"emails_recieved.csv\")"
   ]
  }
 ],
 "metadata": {
  "kernelspec": {
   "display_name": "Python 3",
   "language": "python",
   "name": "python3"
  },
  "language_info": {
   "codemirror_mode": {
    "name": "ipython",
    "version": 3
   },
   "file_extension": ".py",
   "mimetype": "text/x-python",
   "name": "python",
   "nbconvert_exporter": "python",
   "pygments_lexer": "ipython3",
   "version": "3.7.3"
  }
 },
 "nbformat": 4,
 "nbformat_minor": 2
}
