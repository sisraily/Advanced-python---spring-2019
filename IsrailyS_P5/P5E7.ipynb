{
 "cells": [
  {
   "cell_type": "markdown",
   "metadata": {},
   "source": [
    "Dustin Raiken\n",
    "\n",
    "S02254360\n",
    "\n",
    "2-22-19\n",
    "\n",
    "Project 5-7: Extracting the domain name from a URL\n",
    "\n",
    "Before we can extract the domain names, we need to import and read the file."
   ]
  },
  {
   "cell_type": "code",
   "execution_count": 2,
   "metadata": {},
   "outputs": [],
   "source": [
    "import re\n",
    "\n",
    "urls = open('httplist.txt', 'r')\n",
    "line = urls.readline"
   ]
  },
  {
   "cell_type": "markdown",
   "metadata": {},
   "source": [
    "Regular expressions make this code incredibly simple to write. All we need to do is use re.findall to find every properly formatted domain name. The URL needs to start with http:// or https://, so we add an asterisk after the s since that character is optional. After that, we follow it with the domain name. We surround the domain name with parentheses to tell findall to use it as the search criteria. In the words of the problem it consist of any characters between the slashes. However, slashes cannot be used in the domain name, as the regular expression will interpret the rest of the URL as the domain name. We create an exception The domain name is followed by a slash and 0 or more non-whitespace characters.\n",
    "\n",
    "Before printing the URLs, we need to test if the line is more than 0 characters long. \n",
    "\n",
    "Several URLs in the list are not printed. http://emmaonesock.com has no slash at the end, so the regular expression does not locate it. http://thisOneisNotValid\\ has a back slash at the end and also cannot be located. emmaonesock.com and cuttinglinedesigns.com appear in the same element in the list because they share the same line in the file."
   ]
  },
  {
   "cell_type": "code",
   "execution_count": 3,
   "metadata": {},
   "outputs": [
    {
     "name": "stdout",
     "output_type": "stream",
     "text": [
      "['cuttinglinedesigns.com']\n",
      "['emmaonesock']\n",
      "['docs.python.org']\n",
      "['docs.python.org']\n",
      "['emmaonesock.com', 'cuttinglinedesigns.com']\n",
      "['www.thesaurus.com']\n",
      "['www.ifit.com']\n",
      "['bannercas.cccs.edu']\n",
      "['marcytilton.com']\n",
      "['www.emmaonesock.com']\n",
      "['www.amazon.com']\n",
      "['www.baggallini.com']\n",
      "['mail.google.com']\n",
      "['shop.nordstrom.com']\n",
      "['www.jjill.com']\n",
      "['www.nordstromcard.com']\n"
     ]
    }
   ],
   "source": [
    "for line in urls:\n",
    "    domain = re.findall('https*://([^//]*)/\\S*', line)\n",
    "    if len(domain) > 0:\n",
    "        print(domain)"
   ]
  },
  {
   "cell_type": "code",
   "execution_count": null,
   "metadata": {},
   "outputs": [],
   "source": []
  }
 ],
 "metadata": {
  "kernelspec": {
   "display_name": "Python 3",
   "language": "python",
   "name": "python3"
  },
  "language_info": {
   "codemirror_mode": {
    "name": "ipython",
    "version": 3
   },
   "file_extension": ".py",
   "mimetype": "text/x-python",
   "name": "python",
   "nbconvert_exporter": "python",
   "pygments_lexer": "ipython3",
   "version": "3.7.1"
  }
 },
 "nbformat": 4,
 "nbformat_minor": 2
}
