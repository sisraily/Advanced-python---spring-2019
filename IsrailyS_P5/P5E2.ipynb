{
 "cells": [
  {
   "cell_type": "markdown",
   "metadata": {},
   "source": [
    "Dustin Raiken\n",
    "\n",
    "S02254360\n",
    "\n",
    "2-21-19\n",
    "\n",
    "Project 5-2: Most frequent last letter in a file\n",
    "\n",
    "It takes quite a bit to find the most frequently occurring last letter in a file. We will start by loading the file, preparing it for reading, and creating an empty dictionary to store the letters and how many times they appear."
   ]
  },
  {
   "cell_type": "code",
   "execution_count": 60,
   "metadata": {},
   "outputs": [],
   "source": [
    "import string\n",
    "\n",
    "romeo = open('romeo-full.txt', 'r')\n",
    "line = romeo.readline\n",
    "letters = dict()  "
   ]
  },
  {
   "cell_type": "markdown",
   "metadata": {},
   "source": [
    "To isolate the letters, we need to strip the white spaces and new lines by using line.rstrip() and line.split(). We also use line.translate to remove the punctuation. Since there are some single-letter and all-caps words in the file, we will make the lines lowercase so we don't have instances of both capital and lowercase letters.\n",
    "\n",
    "Once the lines are formatted and split, we take the last letter of each word. We do this by calculating the length of each word and using it as an index for said word. We search the dictionary for any instance of that letter. If the letter is not in the dictionary, the value is set to 1. If it is in the dictionary, 1 is added to the value."
   ]
  },
  {
   "cell_type": "code",
   "execution_count": 61,
   "metadata": {},
   "outputs": [],
   "source": [
    "for line in romeo:\n",
    "    line = line.rstrip()\n",
    "    line = line.lower()\n",
    "    line = line.translate(str.maketrans('', '', string.punctuation))\n",
    "    splitLine = line.split()\n",
    "    \n",
    "    for word in splitLine:\n",
    "        lastLetter = word[len(word) - 1]\n",
    "        if lastLetter not in letters:\n",
    "            letters[lastLetter] = 1\n",
    "        else:\n",
    "            letters[lastLetter] += 1"
   ]
  },
  {
   "cell_type": "markdown",
   "metadata": {},
   "source": [
    "To sort the letters by how often they appear, we need to append the letters and their values to a list of tuples. We sort the tuples in reverse order and set two variables equal to the tuple containing the most frequently appearing letter. After all is said and done, we print the most frequently appearing letter and how many times it appears."
   ]
  },
  {
   "cell_type": "code",
   "execution_count": 62,
   "metadata": {},
   "outputs": [
    {
     "name": "stdout",
     "output_type": "stream",
     "text": [
      "The most frequently occurring last letter is e . It appears 329 times.\n"
     ]
    }
   ],
   "source": [
    "tuples = list()\n",
    "for key, value in list(letters.items()):\n",
    "    tuples.append((value, key))\n",
    "\n",
    "tuples.sort(reverse=True)\n",
    "number, letter = tuples[0]\n",
    "print(\"The most frequently occurring last letter is\", letter, \". It appears\", number, \"times.\")"
   ]
  },
  {
   "cell_type": "code",
   "execution_count": null,
   "metadata": {},
   "outputs": [],
   "source": []
  }
 ],
 "metadata": {
  "kernelspec": {
   "display_name": "Python 3",
   "language": "python",
   "name": "python3"
  },
  "language_info": {
   "codemirror_mode": {
    "name": "ipython",
    "version": 3
   },
   "file_extension": ".py",
   "mimetype": "text/x-python",
   "name": "python",
   "nbconvert_exporter": "python",
   "pygments_lexer": "ipython3",
   "version": "3.7.3"
  }
 },
 "nbformat": 4,
 "nbformat_minor": 2
}
