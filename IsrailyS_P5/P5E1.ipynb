{
 "cells": [
  {
   "cell_type": "markdown",
   "metadata": {},
   "source": [
    "Dustin Raiken\n",
    "\n",
    "S02254360\n",
    "\n",
    "2-23-19\n",
    "\n",
    "Project 5-1: Six most frequent words in a file\n",
    "\n",
    "In this exercise, we will find the six most frequently appearing words in act 2 of Romeo and Juliet and create a histogram. We start by importing the re, string, and matplotlib libraries. re will be used to locate each word, matplotlib will draw the histogram, and string will be used to remove capital letters, whitespace characters, and punctuation."
   ]
  },
  {
   "cell_type": "code",
   "execution_count": 166,
   "metadata": {},
   "outputs": [],
   "source": [
    "import re\n",
    "import string\n",
    "import matplotlib.pyplot as plot\n",
    "%matplotlib inline\n",
    "\n",
    "romeo = open('romeo-full.txt', 'r')\n",
    "line = romeo.readline\n",
    "words = dict()  "
   ]
  },
  {
   "cell_type": "markdown",
   "metadata": {},
   "source": [
    "To isolate the letters, we need to strip the white spaces and new lines by using line.split(). We also use line.translate to remove the punctuation. Since there are some single-letter and all-caps words in the file, we will make the lines lowercase so we don't have instances of both capital and lowercase letters. All of this is possible to do in a single line.\n",
    "\n",
    "To find each word, we use a regular expression consisting of one or more lowercase letters. If the regular expression returns a non-empty element, we add it to the dictionary."
   ]
  },
  {
   "cell_type": "code",
   "execution_count": 167,
   "metadata": {},
   "outputs": [],
   "source": [
    "for line in romeo:\n",
    "    line = line.lower().translate(str.maketrans('', '', string.punctuation)).split()\n",
    "    for eachWord in line:\n",
    "        word = re.findall('[a-z]+', eachWord)\n",
    "        if len(str(word)) > 0:\n",
    "            if str(word) not in words:\n",
    "                words[str(word)] = 1\n",
    "            else:\n",
    "                words[str(word)] += 1"
   ]
  },
  {
   "cell_type": "markdown",
   "metadata": {},
   "source": [
    "After all the words are in the dictionary, we create three lists. tuples holds each key-value pair value first and will be used to sort the frequency in descending order. x and y will be used as the axes for our histogram.\n",
    "\n",
    "We append each key value pair to the tuples and sort them in descending order. Once each word is sorted, we set up a for loop to copy the six most frequent words to the x and y lists. tuples[index][1] represents each word and tuples[index][0] represents their frequencies, so they will be used for the x and y axes respectively. To create the histogram, we use matplotlib to create a bar graph using the x and y axes.\n",
    "\n",
    "I is the most frequently appearing word, appearing about 60 times in the act. It makes sense, as the play is written from the point of view of each character. Romeo really hogs the spotlight in this act, as his name is mentioned about 40 times!"
   ]
  },
  {
   "cell_type": "code",
   "execution_count": 168,
   "metadata": {},
   "outputs": [
    {
     "data": {
      "text/plain": [
       "<BarContainer object of 6 artists>"
      ]
     },
     "execution_count": 168,
     "metadata": {},
     "output_type": "execute_result"
    },
    {
     "data": {
      "image/png": "[encoded data removed]",
      "text/plain": [
       "<Figure size 432x288 with 1 Axes>"
      ]
     },
     "metadata": {
      "needs_background": "light"
     },
     "output_type": "display_data"
    }
   ],
   "source": [
    "tuples = list()\n",
    "x = list()\n",
    "y = list()\n",
    "\n",
    "for key, value in list(words.items()):\n",
    "    tuples.append((value, key))\n",
    "tuples.sort(reverse=True)\n",
    "\n",
    "for index in range (0, 6):\n",
    "    x.append(tuples[index][1])\n",
    "    y.append(tuples[index][0])\n",
    "\n",
    "plot.bar(x, y)"
   ]
  },
  {
   "cell_type": "code",
   "execution_count": null,
   "metadata": {},
   "outputs": [],
   "source": []
  },
  {
   "cell_type": "code",
   "execution_count": null,
   "metadata": {},
   "outputs": [],
   "source": []
  }
 ],
 "metadata": {
  "kernelspec": {
   "display_name": "Python 3",
   "language": "python",
   "name": "python3"
  },
  "language_info": {
   "codemirror_mode": {
    "name": "ipython",
    "version": 3
   },
   "file_extension": ".py",
   "mimetype": "text/x-python",
   "name": "python",
   "nbconvert_exporter": "python",
   "pygments_lexer": "ipython3",
   "version": "3.7.1"
  }
 },
 "nbformat": 4,
 "nbformat_minor": 2
}
