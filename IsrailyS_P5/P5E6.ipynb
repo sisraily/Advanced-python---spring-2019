{
 "cells": [
  {
   "cell_type": "markdown",
   "metadata": {},
   "source": [
    "Dustin Raiken\n",
    "\n",
    "S02254360\n",
    "\n",
    "2-22-19\n",
    "\n",
    "Project 5-6: Words beginning and ending with A\n",
    "\n",
    "We will be reading from a file containing a list of words and only printing the ones that both start and end with A. We import the regular expression library and import and read the file."
   ]
  },
  {
   "cell_type": "code",
   "execution_count": 1,
   "metadata": {},
   "outputs": [],
   "source": [
    "import re\n",
    "\n",
    "wordlist = open('wordlist.txt', 'r')\n",
    "line = wordlist.readline"
   ]
  },
  {
   "cell_type": "markdown",
   "metadata": {},
   "source": [
    "Before we search for words beginning and ending with A, we need to strip the whitespace characters from the file. We do this using the rstrip method. The regular expression we use to find the words starting and ending with A consists of a lowercase or capital A preceded by a caret, any number of non-whitespace characters, and an uppercase or lowercase A succeeded by a dollar sign. The caret and dollar sign represent the beginning and end of an expression."
   ]
  },
  {
   "cell_type": "code",
   "execution_count": 2,
   "metadata": {},
   "outputs": [
    {
     "name": "stdout",
     "output_type": "stream",
     "text": [
      "['abracadabra']\n",
      "['abscissa']\n",
      "['acacia']\n",
      "['academia']\n",
      "['acrophobia']\n",
      "['addenda']\n",
      "['agenda']\n",
      "['agoraphobia']\n",
      "['aha']\n",
      "['alfalfa']\n",
      "['alga']\n",
      "['algebra']\n",
      "['alleluia']\n",
      "['aloha']\n",
      "['alpaca']\n",
      "['alpha']\n",
      "['alumina']\n",
      "['alumna']\n",
      "['ambrosia']\n",
      "['ameba']\n",
      "['ammonia']\n",
      "['amnesia']\n",
      "['amoeba']\n",
      "['amphora']\n",
      "['anaconda']\n",
      "['anaesthesia']\n",
      "['analgesia']\n",
      "['anathema']\n",
      "['anemia']\n",
      "['anesthesia']\n",
      "['angelica']\n",
      "['angina']\n",
      "['angora']\n",
      "['anorexia']\n",
      "['antenna']\n",
      "['aorta']\n",
      "['aphasia']\n",
      "['aphelia']\n",
      "['apocrypha']\n",
      "['apologia']\n",
      "['appaloosa']\n",
      "['aqua']\n",
      "['aquaria']\n",
      "['arboreta']\n",
      "['area']\n",
      "['arena']\n",
      "['aria']\n",
      "['armada']\n",
      "['aroma']\n",
      "['arrhythmia']\n",
      "['asphyxia']\n",
      "['aspidistra']\n",
      "['asthma']\n",
      "['ataxia']\n",
      "['atria']\n",
      "['aura']\n",
      "['aurora']\n",
      "['azalea']\n"
     ]
    }
   ],
   "source": [
    "for line in wordlist:\n",
    "    words = line.rstrip()\n",
    "    AwordA = re.findall('^[aA]\\S*[aA]$', words)\n",
    "    if len(AwordA) > 0:\n",
    "        print(AwordA)"
   ]
  },
  {
   "cell_type": "code",
   "execution_count": null,
   "metadata": {},
   "outputs": [],
   "source": []
  }
 ],
 "metadata": {
  "kernelspec": {
   "display_name": "Python 3",
   "language": "python",
   "name": "python3"
  },
  "language_info": {
   "codemirror_mode": {
    "name": "ipython",
    "version": 3
   },
   "file_extension": ".py",
   "mimetype": "text/x-python",
   "name": "python",
   "nbconvert_exporter": "python",
   "pygments_lexer": "ipython3",
   "version": "3.7.1"
  }
 },
 "nbformat": 4,
 "nbformat_minor": 2
}
