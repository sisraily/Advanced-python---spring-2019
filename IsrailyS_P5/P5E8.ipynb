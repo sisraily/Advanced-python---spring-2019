{
 "cells": [
  {
   "cell_type": "markdown",
   "metadata": {},
   "source": [
    "Dustin Raiken\n",
    "\n",
    "S02254360\n",
    "\n",
    "2-22-19\n",
    "\n",
    "Project 5-8: Separating filenames and their extensions\n",
    "\n",
    "This final exercise involves taking in a series of filenames and returning the name and extension for each. "
   ]
  },
  {
   "cell_type": "code",
   "execution_count": 13,
   "metadata": {},
   "outputs": [],
   "source": [
    "import re\n",
    "\n",
    "filenames = open('filelist.txt', 'r')\n",
    "line = filenames.readline"
   ]
  },
  {
   "cell_type": "markdown",
   "metadata": {},
   "source": [
    "This time, we will need to compare each line to two regular expressions, one for the name and one for the extension. The two regular expressions are identical, except the parentheses surround everything before the period for the filename and everything after for the extension. Otherwise, the structure for the regular expressions is at least one of any character that isn't a period or a character not allowed in Windows filenames, a period, and at least one non-whitespace character. The period is added so there is no confusion between files on the same line. While most file extensions are three characters long and contain letters, there are exceptions like c, html, and s01 files.\n",
    "\n",
    "We test both the name and the extension to see if they're at least one character long and print them sequentially if both are true. Note that the filenames and extensions are split even if there are multiple files in the same line. Each filename in the first list corresponds to the extension in the same position in the second list. For instance, turtleTest in the third line corresponds to py in the adjacent list."
   ]
  },
  {
   "cell_type": "code",
   "execution_count": 14,
   "metadata": {},
   "outputs": [
    {
     "name": "stdout",
     "output_type": "stream",
     "text": [
      "['romeo'] ['txt']\n",
      "['romeo-full', ' mailbox'] ['txt', 'txt']\n",
      "['wordlist', ' trial', ' turtleTest', ' mbox', ' mbox-short'] ['txt', 'txt', 'py', 'txt', 'txt']\n",
      "['https', ' empty-file'] ['txt', 'txt']\n",
      "['strange%name', ' weird@name', ' another*try'] ['cpp', 'txt', 'txt']\n",
      "['me', ' so&so', ' what#else'] ['txt', 'ln', 'anything']\n"
     ]
    }
   ],
   "source": [
    "for line in filenames:\n",
    "    name = re.findall('([^/\\:?!<>|.]+)\\.\\S+', line)\n",
    "    extension = re.findall('[^/\\:?!<>|.]+\\.(\\S+)', line)\n",
    "    if len(name) > 0 and len(extension) > 0:\n",
    "        print(name, extension)"
   ]
  },
  {
   "cell_type": "code",
   "execution_count": null,
   "metadata": {},
   "outputs": [],
   "source": []
  }
 ],
 "metadata": {
  "kernelspec": {
   "display_name": "Python 3",
   "language": "python",
   "name": "python3"
  },
  "language_info": {
   "codemirror_mode": {
    "name": "ipython",
    "version": 3
   },
   "file_extension": ".py",
   "mimetype": "text/x-python",
   "name": "python",
   "nbconvert_exporter": "python",
   "pygments_lexer": "ipython3",
   "version": "3.7.1"
  }
 },
 "nbformat": 4,
 "nbformat_minor": 2
}
