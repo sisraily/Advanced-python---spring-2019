{
 "cells": [
  {
   "cell_type": "markdown",
   "metadata": {},
   "source": [
    "### Chapter 8 Question 6\n",
    "This program takes in different numbers from a user, adds those numbers to a list, then prints out the largest and smallest numbers within that list."
   ]
  },
  {
   "cell_type": "code",
   "execution_count": null,
   "metadata": {},
   "outputs": [],
   "source": [
    "# The list_of_numbers variable will hold all the numbers entered by the user. \n",
    "list_of_numbers = []\n",
    "while True:\n",
    "    # prompts for number. The .lower method is used in case the user entered done in upper case.\n",
    "    number = input(\"Enter a number: (type done to exit)\")\n",
    "    \n",
    "    # Breaks out of the loop, if user entered 'done'.\n",
    "    if number == 'done': break\n",
    "        \n",
    "    # adds all the numbers to the list.\n",
    "    list_of_numbers.append(number)\n",
    "\n",
    "# The max and min functions are used to display the highest or lowerst numbers within the list_of_numbers list.\n",
    "print(\"The largest number is: \",max(list_of_numbers))\n",
    "print(\"The smallest number is: \",min(list_of_numbers))"
   ]
  }
 ],
 "metadata": {
  "kernelspec": {
   "display_name": "Python 3",
   "language": "python",
   "name": "python3"
  },
  "language_info": {
   "codemirror_mode": {
    "name": "ipython",
    "version": 3
   },
   "file_extension": ".py",
   "mimetype": "text/x-python",
   "name": "python",
   "nbconvert_exporter": "python",
   "pygments_lexer": "ipython3",
   "version": "3.7.1"
  }
 },
 "nbformat": 4,
 "nbformat_minor": 2
}
