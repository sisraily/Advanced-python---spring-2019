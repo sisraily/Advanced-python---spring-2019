{
 "cells": [
  {
   "cell_type": "markdown",
   "metadata": {},
   "source": [
    "## Solving system of equations using numpy\n",
    "Below are the solution to the three systems of linear equations.\n",
    "These were solved with numpy."
   ]
  },
  {
   "cell_type": "markdown",
   "metadata": {},
   "source": [
    "\n",
    "Question 1) -x + 2y = 0,      x +  y = 3\n",
    " \n",
    "Question 2) 3x - 9y = -42,    2x + 4y = 2\n",
    "\n",
    "Question 3) x - 2y - z = 6,   2x + 2y = z + 1,    2z - 1 = y + x\n",
    "         "
   ]
  },
  {
   "cell_type": "markdown",
   "metadata": {},
   "source": [
    "### Question 1:\n",
    "We use the solve method within the linalg function in numpy.\n"
   ]
  },
  {
   "cell_type": "code",
   "execution_count": 1,
   "metadata": {},
   "outputs": [
    {
     "name": "stdout",
     "output_type": "stream",
     "text": [
      "Result:\n",
      "x = 2\n",
      "y = 1\n",
      "\n"
     ]
    }
   ],
   "source": [
    "# Solve the system of equations -x + 2y = 0 and x + y = 3:\n",
    "import numpy as np\n",
    "# Creates a 2x2 array. Each row represents the unknown variables from each equation.\n",
    "a = np.array([[-1, 2], \n",
    "              [1, 1]])\n",
    "\n",
    "# The b variable holds the array with the solutions. \n",
    "b = np.array([0, 3])\n",
    "# Both arrays are sent to the solve method. The returned result is stored in the x variable.\n",
    "x = np.linalg.solve(a, b)\n",
    "x\n",
    "print(\"Result:\\nx = {:.0f}\\ny = {:.0f}\\n\".format(x[0],x[1]))"
   ]
  },
  {
   "cell_type": "markdown",
   "metadata": {},
   "source": [
    "### Question 2:"
   ]
  },
  {
   "cell_type": "code",
   "execution_count": 2,
   "metadata": {},
   "outputs": [
    {
     "name": "stdout",
     "output_type": "stream",
     "text": [
      "Question 2 result:\n",
      "x = -5\n",
      "y = 3\n",
      "\n"
     ]
    }
   ],
   "source": [
    "# Solve the system of equations 3x - 9y = -42 and 2x + 4y = 2\n",
    "# Solved the same way as in question 1. \n",
    "import numpy as np\n",
    "a = np.array([[3,-9],[2,4]])\n",
    "b = np.array([-42,2])\n",
    "x = np.linalg.solve(a,b)\n",
    "print(\"Question 2 result:\\nx = {:.0f}\\ny = {:.0f}\\n\".format(x[0],x[1]))"
   ]
  },
  {
   "cell_type": "markdown",
   "metadata": {},
   "source": [
    "### Question 3: \n",
    "The last question asks to solve a system of 3 equations. The first thing to do is to move the constant variables\n",
    "to the right-hand side of the equation, and the unknown variables to the left. We end up with a classic ax+by+cz=C, where C (capital) is the constant. \n",
    "\n",
    "x - 2y - z = 6\n",
    "\n",
    "2x + 2y = z + 1\n",
    "\n",
    "2z - 1 = y + x\n",
    "\n",
    "Rearranging the above equations we get:\n",
    "\n",
    "x - 2y - z = 6\n",
    "\n",
    "2x + 2y - z = 1\n",
    "\n",
    "-x - y + 2z = 1\n",
    "\n",
    "Next, we create a 2d numpy array with 3 rows and 3 columns. Each row corresponds to one equation. And the columns correspond to the unknown variable (first column corresponds to the 'x' variable etc.). The two arrays are sent to the\n",
    "solve method and the result is returned then printed out. \n"
   ]
  },
  {
   "cell_type": "code",
   "execution_count": 3,
   "metadata": {},
   "outputs": [
    {
     "name": "stdout",
     "output_type": "stream",
     "text": [
      "Question 3 result:\n",
      "x = 3\n",
      "y = -2\n",
      "z = 1\n"
     ]
    }
   ],
   "source": [
    "a = np.array([[1, -2,-1], \n",
    "              [2, 2,-1],\n",
    "              [-1,-1,2]])\n",
    "b = np.array([6,1,1])\n",
    "x = np.linalg.solve(a, b)\n",
    "print(\"Question 3 result:\\nx = {:.0f}\\ny = {:.0f}\\nz = {:.0f}\".format(x[0],x[1],x[2]))"
   ]
  },
  {
   "cell_type": "code",
   "execution_count": null,
   "metadata": {},
   "outputs": [],
   "source": []
  }
 ],
 "metadata": {
  "kernelspec": {
   "display_name": "Python 3",
   "language": "python",
   "name": "python3"
  },
  "language_info": {
   "codemirror_mode": {
    "name": "ipython",
    "version": 3
   },
   "file_extension": ".py",
   "mimetype": "text/x-python",
   "name": "python",
   "nbconvert_exporter": "python",
   "pygments_lexer": "ipython3",
   "version": "3.7.1"
  }
 },
 "nbformat": 4,
 "nbformat_minor": 1
}
